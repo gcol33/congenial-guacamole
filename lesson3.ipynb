{
 "cells": [
  {
   "cell_type": "markdown",
   "metadata": {
    "collapsed": true
   },
   "source": [
    "## Lesson 3"
   ]
  },
  {
   "cell_type": "markdown",
   "metadata": {},
   "source": [
    "git init (initializes a git repos.)\n",
    "\n",
    "git add filename (adds a file)\n",
    "\n",
    "git commit -m \"some comment\" filename (adds to cloud)\n",
    "\n",
    "git status (gives status)\n",
    "\n",
    "git --global user.name/user.email/color.ui/core.editor  (changes profile)\n",
    "\n",
    "git config --list (shows profile)"
   ]
  },
  {
   "cell_type": "code",
   "execution_count": null,
   "metadata": {
    "collapsed": true
   },
   "outputs": [],
   "source": []
  }
 ],
 "metadata": {
  "kernelspec": {
   "display_name": "Python 2",
   "language": "python",
   "name": "python2"
  },
  "language_info": {
   "codemirror_mode": {
    "name": "ipython",
    "version": 2
   },
   "file_extension": ".py",
   "mimetype": "text/x-python",
   "name": "python",
   "nbconvert_exporter": "python",
   "pygments_lexer": "ipython2",
   "version": "2.7.11"
  }
 },
 "nbformat": 4,
 "nbformat_minor": 0
}
