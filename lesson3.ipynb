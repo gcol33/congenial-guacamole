{
 "cells": [
  {
   "cell_type": "markdown",
   "metadata": {
    "collapsed": true
   },
   "source": [
    "## Lesson 3"
   ]
  },
  {
   "cell_type": "markdown",
   "metadata": {},
   "source": [
    "git init (initializes a git repos.)\n",
    "\n",
    "git add filename (adds a file)\n",
    "\n",
    "git commit -m \"some comment\" filename (adds to cloud)\n",
    "\n",
    "git status (gives status)\n",
    "\n",
    "git --global user.name/user.email/color.ui/core.editor  (changes profile)\n",
    "\n",
    "git config --list (shows profile)\n",
    "\n",
    "git log (gives history of changes)"
   ]
  },
  {
   "cell_type": "markdown",
   "metadata": {},
   "source": [
    "## example - removing files"
   ]
  },
  {
   "cell_type": "code",
   "execution_count": 4,
   "metadata": {
    "collapsed": false
   },
   "outputs": [],
   "source": [
    "! touch tempfile\n"
   ]
  },
  {
   "cell_type": "code",
   "execution_count": 5,
   "metadata": {
    "collapsed": true
   },
   "outputs": [],
   "source": [
    "! git add tempfile"
   ]
  },
  {
   "cell_type": "code",
   "execution_count": 6,
   "metadata": {
    "collapsed": false
   },
   "outputs": [
    {
     "name": "stdout",
     "output_type": "stream",
     "text": [
      "error: the following file has changes staged in the index:\r\n",
      "    tempfile\r\n",
      "(use --cached to keep the file, or -f to force removal)\r\n"
     ]
    }
   ],
   "source": [
    "! git rm tempfile"
   ]
  },
  {
   "cell_type": "code",
   "execution_count": 7,
   "metadata": {
    "collapsed": false
   },
   "outputs": [
    {
     "name": "stdout",
     "output_type": "stream",
     "text": [
      "rm 'tempfile'\r\n"
     ]
    }
   ],
   "source": [
    "! git rm -f tempfile "
   ]
  },
  {
   "cell_type": "code",
   "execution_count": 8,
   "metadata": {
    "collapsed": false
   },
   "outputs": [
    {
     "name": "stdout",
     "output_type": "stream",
     "text": [
      "On branch master\r\n",
      "Changes not staged for commit:\r\n",
      "  (use \"git add <file>...\" to update what will be committed)\r\n",
      "  (use \"git checkout -- <file>...\" to discard changes in working directory)\r\n",
      "\r\n",
      "\t\u001b[31mmodified:   lesson3.ipynb\u001b[m\r\n",
      "\r\n",
      "Untracked files:\r\n",
      "  (use \"git add <file>...\" to include in what will be committed)\r\n",
      "\r\n",
      "\t\u001b[31m.DS_Store\u001b[m\r\n",
      "\t\u001b[31m.ipynb_checkpoints/\u001b[m\r\n",
      "\r\n",
      "no changes added to commit (use \"git add\" and/or \"git commit -a\")\r\n"
     ]
    }
   ],
   "source": [
    "! git status"
   ]
  },
  {
   "cell_type": "code",
   "execution_count": 9,
   "metadata": {
    "collapsed": false
   },
   "outputs": [
    {
     "name": "stdout",
     "output_type": "stream",
     "text": [
      "\u001b[33mcommit 32d8b47b55e9ca560700bb64d1569a84649a1dd8\u001b[m\r\n",
      "Author: Gilles Colling <gilcol33@yahoo.de>\r\n",
      "Date:   Tue Jan 10 11:41:47 2017 +0100\r\n",
      "\r\n",
      "    lesson 3 update1\r\n",
      "\r\n",
      "\u001b[33mcommit 681b703822474d168654b1eba40326a43179b5d2\u001b[m\r\n",
      "Author: Gilles Colling <gilcol33@yahoo.de>\r\n",
      "Date:   Tue Jan 10 11:34:47 2017 +0100\r\n",
      "\r\n",
      "    lesson 3\r\n"
     ]
    }
   ],
   "source": [
    "! git log"
   ]
  },
  {
   "cell_type": "markdown",
   "metadata": {},
   "source": [
    "## Connect repos. to cloud\n",
    "\n",
    "git remote add origin https://github.com/gcol33/congenial-guacamole.git\n",
    "\n",
    "git push -u origin master (push changes to repos.)"
   ]
  },
  {
   "cell_type": "code",
   "execution_count": null,
   "metadata": {
    "collapsed": true
   },
   "outputs": [],
   "source": []
  }
 ],
 "metadata": {
  "kernelspec": {
   "display_name": "Python 2",
   "language": "python",
   "name": "python2"
  },
  "language_info": {
   "codemirror_mode": {
    "name": "ipython",
    "version": 2
   },
   "file_extension": ".py",
   "mimetype": "text/x-python",
   "name": "python",
   "nbconvert_exporter": "python",
   "pygments_lexer": "ipython2",
   "version": "2.7.11"
  }
 },
 "nbformat": 4,
 "nbformat_minor": 0
}
